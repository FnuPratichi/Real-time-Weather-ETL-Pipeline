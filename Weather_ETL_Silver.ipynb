{
 "cells": [
  {
   "cell_type": "markdown",
   "metadata": {
    "application/vnd.databricks.v1+cell": {
     "cellMetadata": {
      "byteLimit": 2048000,
      "rowLimit": 10000
     },
     "inputWidgets": {},
     "nuid": "4ff762aa-370e-420a-89ba-e2a2707fa53f",
     "showTitle": false,
     "tableResultSettingsMap": {},
     "title": ""
    }
   },
   "source": [
    "**_Purpose: Read Bronze → clean/transform → save as Silver._**"
   ]
  },
  {
   "cell_type": "code",
   "execution_count": 0,
   "metadata": {
    "application/vnd.databricks.v1+cell": {
     "cellMetadata": {
      "byteLimit": 2048000,
      "rowLimit": 10000
     },
     "inputWidgets": {},
     "nuid": "21ad1ca9-f4e6-424a-a647-f74970f94aca",
     "showTitle": false,
     "tableResultSettingsMap": {},
     "title": ""
    }
   },
   "outputs": [
    {
     "output_type": "stream",
     "name": "stdout",
     "output_type": "stream",
     "text": [
      "+---+-------------------+--------------+--------------------+-------------+-------------------+--------------+\n| id|               hour|temperature_2m|relative_humidity_2m|precipitation|       extracted_at|        source|\n+---+-------------------+--------------+--------------------+-------------+-------------------+--------------+\n|117|2025-09-26 21:00:00|          21.9|                62.0|          0.0|2025-09-22 19:53:36|OpenWeatherMap|\n| 62|2025-09-24 14:00:00|          22.8|                81.0|          0.2|2025-09-22 19:53:36|OpenWeatherMap|\n|  8|2025-09-22 08:00:00|          16.4|                91.0|          0.0|2025-09-22 19:53:36|OpenWeatherMap|\n| 38|2025-09-23 14:00:00|          30.5|                41.0|          0.0|2025-09-22 19:53:36|OpenWeatherMap|\n| 39|2025-09-23 15:00:00|          30.9|                40.0|          0.0|2025-09-22 19:53:36|OpenWeatherMap|\n+---+-------------------+--------------+--------------------+-------------+-------------------+--------------+\nonly showing top 5 rows\n"
     ]
    }
   ],
   "source": [
    "# Step 1: Read Bronze table\n",
    "bronze_df = spark.table(\"weather_bronze\")\n",
    "\n",
    "# Step 2: Transform and clean\n",
    "from pyspark.sql.functions import col, to_timestamp, lit\n",
    "\n",
    "silver_df = bronze_df.select(\n",
    "    col(\"id\"),\n",
    "    col(\"time\").alias(\"hour\"),\n",
    "    col(\"temperature_2m\").cast(\"float\"),\n",
    "    col(\"relative_humidity_2m\").cast(\"float\"),\n",
    "    col(\"precipitation\").cast(\"float\"),\n",
    "    to_timestamp(col(\"extracted_at\")).alias(\"extracted_at\")  # Ensure timestamp type\n",
    ")\n",
    "\n",
    "\n",
    "# Convert hour to timestamp\n",
    "silver_df = silver_df.withColumn(\"hour\", to_timestamp(col(\"hour\")))\n",
    "\n",
    "# Remove duplicates by 'id'\n",
    "silver_df = silver_df.dropDuplicates([\"id\"])\n",
    "\n",
    "# Add source metadata\n",
    "silver_df = silver_df.withColumn(\"source\", lit(\"OpenWeatherMap\"))\n",
    "\n",
    "# Preview\n",
    "silver_df.show(5)\n"
   ]
  },
  {
   "cell_type": "code",
   "execution_count": 0,
   "metadata": {
    "application/vnd.databricks.v1+cell": {
     "cellMetadata": {
      "byteLimit": 2048000,
      "rowLimit": 10000
     },
     "inputWidgets": {},
     "nuid": "f6603f37-6080-43de-9092-a9da483ff208",
     "showTitle": false,
     "tableResultSettingsMap": {},
     "title": ""
    }
   },
   "outputs": [
    {
     "output_type": "stream",
     "name": "stdout",
     "output_type": "stream",
     "text": [
      "+---+-------------------+--------------+--------------------+-------------+-------------------+--------------+\n| id|               hour|temperature_2m|relative_humidity_2m|precipitation|       extracted_at|        source|\n+---+-------------------+--------------+--------------------+-------------+-------------------+--------------+\n|117|2025-09-26 21:00:00|          21.9|                62.0|          0.0|2025-09-22 19:53:36|OpenWeatherMap|\n| 62|2025-09-24 14:00:00|          22.8|                81.0|          0.2|2025-09-22 19:53:36|OpenWeatherMap|\n|  8|2025-09-22 08:00:00|          16.4|                91.0|          0.0|2025-09-22 19:53:36|OpenWeatherMap|\n| 38|2025-09-23 14:00:00|          30.5|                41.0|          0.0|2025-09-22 19:53:36|OpenWeatherMap|\n| 39|2025-09-23 15:00:00|          30.9|                40.0|          0.0|2025-09-22 19:53:36|OpenWeatherMap|\n+---+-------------------+--------------+--------------------+-------------+-------------------+--------------+\n\n"
     ]
    }
   ],
   "source": [
    "# Step 3: Save as Silver Delta table with incremental append\n",
    "# Use mergeSchema or overwriteSchema if columns might change in the future\n",
    "\n",
    "\n",
    "silver_df.write.format(\"delta\") \\\n",
    "    .mode(\"append\") \\\n",
    "    .option(\"overwriteSchema\", \"true\") \\\n",
    "    .saveAsTable(\"weather_silver\")\n",
    "\n",
    "# Quick check\n",
    "spark.sql(\"SELECT * FROM weather_silver LIMIT 5\").show()"
   ]
  }
 ],
 "metadata": {
  "application/vnd.databricks.v1+notebook": {
   "computePreferences": null,
   "dashboards": [],
   "environmentMetadata": {
    "base_environment": "",
    "environment_version": "3"
   },
   "inputWidgetPreferences": null,
   "language": "python",
   "notebookMetadata": {
    "pythonIndentUnit": 4
   },
   "notebookName": "Weather_ETL_Silver",
   "widgets": {}
  },
  "language_info": {
   "name": "python"
  }
 },
 "nbformat": 4,
 "nbformat_minor": 0
}