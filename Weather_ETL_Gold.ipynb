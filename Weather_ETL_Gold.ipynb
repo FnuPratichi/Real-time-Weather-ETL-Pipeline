{
 "cells": [
  {
   "cell_type": "markdown",
   "metadata": {
    "application/vnd.databricks.v1+cell": {
     "cellMetadata": {
      "byteLimit": 2048000,
      "rowLimit": 10000
     },
     "inputWidgets": {},
     "nuid": "ac8bd3ac-0e42-4f87-a7ae-c48116380da1",
     "showTitle": false,
     "tableResultSettingsMap": {},
     "title": ""
    }
   },
   "source": [
    "**_Purpose: Read Silver → aggregate → save as Gold._**"
   ]
  },
  {
   "cell_type": "markdown",
   "metadata": {
    "application/vnd.databricks.v1+cell": {
     "cellMetadata": {
      "byteLimit": 2048000,
      "rowLimit": 10000
     },
     "inputWidgets": {},
     "nuid": "8d1b644c-a9aa-43de-8675-3169f3619a1a",
     "showTitle": false,
     "tableResultSettingsMap": {},
     "title": ""
    }
   },
   "source": [
    "**Gold Layer – Aggregated & Analytics-Ready Data**\n",
    "\n",
    "The Gold layer is where we create business-level insights. Here, you’ll do things like:\n",
    "\n",
    "Daily summaries (average temperature, total precipitation, average humidity)\n",
    "\n",
    "Hourly trends or peaks\n",
    "\n",
    "Optional: Detect extreme weather conditions or alerts"
   ]
  },
  {
   "cell_type": "code",
   "execution_count": 0,
   "metadata": {
    "application/vnd.databricks.v1+cell": {
     "cellMetadata": {
      "byteLimit": 2048000,
      "rowLimit": 10000
     },
     "inputWidgets": {},
     "nuid": "db22247c-de7b-4b34-80c9-4fb7af1d3a47",
     "showTitle": false,
     "tableResultSettingsMap": {},
     "title": ""
    }
   },
   "outputs": [
    {
     "output_type": "stream",
     "name": "stdout",
     "output_type": "stream",
     "text": [
      "+----------+------------------+------------------+-------------------+\n|      date|          avg_temp|      avg_humidity|total_precipitation|\n+----------+------------------+------------------+-------------------+\n|2025-09-23|22.195833206176758|            75.375|  8.800000011920929|\n|2025-09-24|21.637500047683716| 85.66666666666667| 1.2000000178813934|\n|2025-09-22|20.747999992370605|             73.32|                0.0|\n|2025-09-25|24.199999968210857|            79.625|  7.999999910593033|\n|2025-09-28| 23.24999992052714|53.041666666666664|                0.0|\n|2025-09-27|22.733333428700764|60.916666666666664|                0.0|\n|2025-09-26| 23.12083339691162| 78.70833333333333|   14.2000000923872|\n+----------+------------------+------------------+-------------------+\n\n"
     ]
    }
   ],
   "source": [
    "# Load Silver table into a DataFrame\n",
    "silver_df = spark.table(\"weather_silver\")\n",
    "\n",
    "\n",
    "from pyspark.sql.functions import col, to_date, avg, sum\n",
    "\n",
    "# Convert hour to date\n",
    "gold_df = silver_df.withColumn(\"date\", to_date(col(\"hour\")))\n",
    "\n",
    "# Aggregate by date\n",
    "daily_summary = gold_df.groupBy(\"date\").agg(\n",
    "    avg(\"temperature_2m\").alias(\"avg_temp\"),\n",
    "    avg(\"relative_humidity_2m\").alias(\"avg_humidity\"),\n",
    "    sum(\"precipitation\").alias(\"total_precipitation\")\n",
    ")\n",
    "\n",
    "daily_summary.show()\n"
   ]
  },
  {
   "cell_type": "markdown",
   "metadata": {
    "application/vnd.databricks.v1+cell": {
     "cellMetadata": {
      "byteLimit": 2048000,
      "rowLimit": 10000
     },
     "inputWidgets": {},
     "nuid": "f10f9c97-1403-4b5d-806c-7082543c3299",
     "showTitle": false,
     "tableResultSettingsMap": {},
     "title": ""
    }
   },
   "source": [
    "**save this Gold layer as a Delta table**"
   ]
  },
  {
   "cell_type": "code",
   "execution_count": 0,
   "metadata": {
    "application/vnd.databricks.v1+cell": {
     "cellMetadata": {
      "byteLimit": 2048000,
      "rowLimit": 10000
     },
     "inputWidgets": {},
     "nuid": "19465602-de19-41e1-ade6-9ced4ad9dada",
     "showTitle": false,
     "tableResultSettingsMap": {},
     "title": ""
    }
   },
   "outputs": [
    {
     "output_type": "stream",
     "name": "stdout",
     "output_type": "stream",
     "text": [
      "+----------+------------------+------------------+-------------------+\n|      date|          avg_temp|      avg_humidity|total_precipitation|\n+----------+------------------+------------------+-------------------+\n|2025-09-23|22.195833206176758|            75.375|  8.800000011920929|\n|2025-09-24|21.637500047683716| 85.66666666666667| 1.2000000178813934|\n|2025-09-22|20.747999992370605|             73.32|                0.0|\n|2025-09-25|24.199999968210857|            79.625|  7.999999910593033|\n|2025-09-28| 23.24999992052714|53.041666666666664|                0.0|\n|2025-09-27|22.733333428700764|60.916666666666664|                0.0|\n|2025-09-26| 23.12083339691162| 78.70833333333333|   14.2000000923872|\n+----------+------------------+------------------+-------------------+\n\n"
     ]
    }
   ],
   "source": [
    "\n",
    "# Sort by date\n",
    "daily_summary_sorted = daily_summary.orderBy(\"date\")\n",
    "\n",
    "\n",
    "\n",
    "# Load existing Gold table if exists\n",
    "try:\n",
    "    existing_gold = spark.table(\"weather_gold\")\n",
    "    # Combine old and new, remove duplicates by date\n",
    "    combined_gold = existing_gold.union(daily_summary_sorted).dropDuplicates([\"date\"])\n",
    "except Exception:\n",
    "    # If Gold table doesn't exist yet\n",
    "    combined_gold = daily_summary_sorted\n",
    "\n",
    "# Save / Overwrite Gold table with merged data\n",
    "combined_gold.write.format(\"delta\") \\\n",
    "    .mode(\"overwrite\") \\\n",
    "    .option(\"overwriteSchema\", \"true\") \\\n",
    "    .saveAsTable(\"weather_gold\")\n",
    "\n",
    "\n",
    "\n",
    "# Quick check\n",
    "spark.sql(\"SELECT * FROM weather_gold\").show()\n"
   ]
  }
 ],
 "metadata": {
  "application/vnd.databricks.v1+notebook": {
   "computePreferences": null,
   "dashboards": [],
   "environmentMetadata": {
    "base_environment": "",
    "environment_version": "3"
   },
   "inputWidgetPreferences": null,
   "language": "python",
   "notebookMetadata": {
    "pythonIndentUnit": 4
   },
   "notebookName": "Weather_ETL_Gold",
   "widgets": {}
  },
  "language_info": {
   "name": "python"
  }
 },
 "nbformat": 4,
 "nbformat_minor": 0
}